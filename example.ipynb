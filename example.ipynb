{
 "cells": [
  {
   "cell_type": "code",
   "execution_count": 10,
   "metadata": {},
   "outputs": [],
   "source": [
    "from modules.train import train_model\n",
    "from modules.MLP_model import MLP\n",
    "from modules.dataset import FourierFeaturesPixelDataset\n",
    "from modules.utils import get_B_gauss, plot_results\n",
    "import config\n",
    "from PIL import Image\n",
    "import numpy as np\n",
    "import matplotlib.pyplot as plt\n",
    "from torch.utils.data import DataLoader\n",
    "import torch.optim as optim"
   ]
  },
  {
   "cell_type": "markdown",
   "metadata": {},
   "source": [
    "Load and normalize the image in the range [0, 1]"
   ]
  },
  {
   "cell_type": "code",
   "execution_count": 11,
   "metadata": {},
   "outputs": [],
   "source": [
    "img = Image.open(config.IMG_FILENAME)\n",
    "img = np.asarray(img)[:, :, :3] / 255\n",
    "plt.imshow(img)\n"
   ]
  },
  {
   "cell_type": "markdown",
   "metadata": {},
   "source": [
    "Create B matrix"
   ]
  },
  {
   "cell_type": "code",
   "execution_count": 3,
   "metadata": {},
   "outputs": [],
   "source": [
    "B_gauss = get_B_gauss(mapping_size=config.MAPPING_SIZE, \n",
    "                      sigma=config.SIGMA,\n",
    "                      seed=0)"
   ]
  },
  {
   "cell_type": "markdown",
   "metadata": {},
   "source": [
    "Create train and validation dataset"
   ]
  },
  {
   "cell_type": "code",
   "execution_count": 4,
   "metadata": {},
   "outputs": [],
   "source": [
    "train_dataset = FourierFeaturesPixelDataset(img=img,\n",
    "                                            B=B_gauss,\n",
    "                                            train=True)\n",
    "train_dataloader = DataLoader(train_dataset, \n",
    "                              batch_size=len(train_dataset),\n",
    "                              shuffle=config.SHUFFLE)\n",
    "\n",
    "validation_dataset = FourierFeaturesPixelDataset(img=img,\n",
    "                                                 B=B_gauss,\n",
    "                                                 train=False)\n",
    "\n",
    "validation_dataloader = DataLoader(validation_dataset, \n",
    "                                   batch_size=len(validation_dataset),\n",
    "                                   shuffle=False)"
   ]
  },
  {
   "cell_type": "markdown",
   "metadata": {},
   "source": [
    "Create the MLP model and the optimizer"
   ]
  },
  {
   "cell_type": "code",
   "execution_count": 5,
   "metadata": {},
   "outputs": [],
   "source": [
    "model = MLP(input_dim=2*config.MAPPING_SIZE,\n",
    "            num_layers=config.NETWORK_NUM_LAYERS,\n",
    "            num_channels=config.NETWORK_CHANNELS)\n",
    "\n",
    "optimizer = optim.Adam(model.parameters(), lr=config.LEARNING_RATE)"
   ]
  },
  {
   "cell_type": "markdown",
   "metadata": {},
   "source": [
    "Train the model"
   ]
  },
  {
   "cell_type": "code",
   "execution_count": null,
   "metadata": {},
   "outputs": [],
   "source": [
    "history = train_model(model=model,\n",
    "                      optimizer=optimizer,\n",
    "                      num_epochs=config.NUM_EPOCHS,\n",
    "                      train_dataloader=validation_dataloader,\n",
    "                      val_dataloader=None,\n",
    "                      device=config.DEVICE)\n"
   ]
  },
  {
   "cell_type": "markdown",
   "metadata": {},
   "source": [
    "Save model and history"
   ]
  },
  {
   "cell_type": "code",
   "execution_count": null,
   "metadata": {},
   "outputs": [],
   "source": [
    "model.save_model(save_folder=config.SAVE_FOLDER)\n",
    "model.save_history(history=history, save_folder=config.SAVE_FOLDER)"
   ]
  },
  {
   "cell_type": "markdown",
   "metadata": {},
   "source": [
    "Load model"
   ]
  },
  {
   "cell_type": "code",
   "execution_count": 5,
   "metadata": {},
   "outputs": [],
   "source": [
    "model_loaded = MLP.load_model(save_folder=config.SAVE_FOLDER)"
   ]
  },
  {
   "cell_type": "markdown",
   "metadata": {},
   "source": [
    "Show results"
   ]
  },
  {
   "cell_type": "code",
   "execution_count": null,
   "metadata": {},
   "outputs": [],
   "source": [
    "plot_results(original_img=img,\n",
    "             validation_dataset=validation_dataset,\n",
    "             model=model_loaded,\n",
    "             device='cpu')"
   ]
  },
  {
   "cell_type": "markdown",
   "metadata": {},
   "source": [
    "Number of model's parameters"
   ]
  },
  {
   "cell_type": "code",
   "execution_count": 9,
   "metadata": {},
   "outputs": [
    {
     "name": "stdout",
     "output_type": "stream",
     "text": [
      "The model has 263,683 parameters\n",
      "Parameters/Pixels: 1.3411610921223958\n"
     ]
    }
   ],
   "source": [
    "# count the number of parameters in the model\n",
    "num_params = model_loaded.get_num_parameters()\n",
    "print(f'The model has {num_params:,} parameters')\n",
    "print(f'Parameters/Pixels: {num_params / (img.shape[0] * img.shape[1] * img.shape[2])}')"
   ]
  }
 ],
 "metadata": {
  "kernelspec": {
   "display_name": "torch",
   "language": "python",
   "name": "python3"
  },
  "language_info": {
   "codemirror_mode": {
    "name": "ipython",
    "version": 3
   },
   "file_extension": ".py",
   "mimetype": "text/x-python",
   "name": "python",
   "nbconvert_exporter": "python",
   "pygments_lexer": "ipython3",
   "version": "3.10.11"
  }
 },
 "nbformat": 4,
 "nbformat_minor": 2
}
